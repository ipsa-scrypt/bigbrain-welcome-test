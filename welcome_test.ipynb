{
 "cells": [
  {
   "cell_type": "code",
   "execution_count": 19,
   "outputs": [
    {
     "name": "stderr",
     "output_type": "stream",
     "text": [
      "[nltk_data] Downloading package punkt to\n",
      "[nltk_data]     C:\\Users\\sunn\\AppData\\Roaming\\nltk_data...\n",
      "[nltk_data]   Package punkt is already up-to-date!\n"
     ]
    }
   ],
   "source": [
    "import numpy as np\n",
    "from matplotlib import pyplot as plt\n",
    "from sklearn.decomposition import PCA\n",
    "import nltk\n",
    "nltk.download('punkt')\n",
    "from nltk.tokenize import word_tokenize"
   ],
   "metadata": {
    "collapsed": false,
    "ExecuteTime": {
     "end_time": "2023-10-18T15:49:07.473973800Z",
     "start_time": "2023-10-18T15:49:07.458314600Z"
    }
   },
   "id": "a06f0c3722eca47b"
  },
  {
   "cell_type": "code",
   "execution_count": 20,
   "id": "initial_id",
   "metadata": {
    "collapsed": true,
    "ExecuteTime": {
     "end_time": "2023-10-18T15:49:07.894229400Z",
     "start_time": "2023-10-18T15:49:07.873848400Z"
    }
   },
   "outputs": [],
   "source": [
    "SCRYPT_RANDOM_SENTENCES = [\n",
    "    \"I love you\",\n",
    "    \"You like me\",\n",
    "    \"Flowers love sun\",\n",
    "    \"I love flowers\",\n",
    "    \"Some flowers are red\",\n",
    "    \"Some flowers are blue\",\n",
    "    \"Sun is yellow\",\n",
    "    \"Sun is hot\",\n",
    "    \"I like hot coffee\",\n",
    "    \"Love is red\",\n",
    "    \"Eating potatoes everyday\",\n",
    "    \"I like potatoes\",\n",
    "]"
   ]
  },
  {
   "cell_type": "code",
   "execution_count": 26,
   "outputs": [],
   "source": [
    "# =============================================================================\n",
    "'''\n",
    "Simplified tokenizer\n",
    "A tokenizer is a function that splits a sentence into words\n",
    "Those words are called tokens\n",
    "They will be used to create a vector of words\n",
    "\n",
    "Output:\n",
    "    scrypt_tokenized_sentences : list of list of tokens\n",
    "'''\n",
    "\n",
    "# your implementation\n",
    "\n",
    "\n",
    "# using nltk\n",
    "nltk_tokenized_sentences = [word_tokenize(sentence) for sentence in SCRYPT_RANDOM_SENTENCES]\n",
    "\n",
    "# uncomment to check if your implementation is correct\n",
    "# assert(scrypt_tokenized_sentences == nltk_tokenized_sentences)\n",
    "# =============================================================================\n"
   ],
   "metadata": {
    "collapsed": false,
    "ExecuteTime": {
     "end_time": "2023-10-18T15:52:02.238705600Z",
     "start_time": "2023-10-18T15:52:02.223388900Z"
    }
   },
   "id": "f787415b878f868d"
  },
  {
   "cell_type": "code",
   "execution_count": 29,
   "outputs": [
    {
     "name": "stdout",
     "output_type": "stream",
     "text": [
      "Term Frequency : \n",
      " {'I': 4, 'love': 3, 'you': 1, 'You': 1, 'like': 3, 'me': 1, 'Flowers': 1, 'sun': 1, 'flowers': 3, 'Some': 2, 'are': 2, 'red': 2, 'blue': 1, 'Sun': 2, 'is': 3, 'yellow': 1, 'hot': 2, 'coffee': 1, 'Love': 1, 'Eating': 1, 'potatoes': 2, 'everyday': 1}\n"
     ]
    }
   ],
   "source": [
    "# =============================================================================\n",
    "# Calculating Term Frequency over all sentences\n",
    "'''\n",
    "Term Frequency is the number of times a word appears in a sentence\n",
    "It is used to create a vector of words\n",
    "\n",
    "Output:\n",
    "    scrypt_tf : dictionary of word and its frequency\n",
    "'''\n",
    "\n",
    "# your implementation\n",
    "\n",
    "\n",
    "# uncomment to check if your implementation is correct\n",
    "# assert(scrypt_tf == {'I': 4, 'love': 3, 'you': 1, 'You': 1, 'like': 3, 'me': 1, 'Flowers': 1, 'sun': 1, 'flowers': 3, 'Some': 2, 'are': 2, 'red': 2, 'blue': 1, 'Sun': 2, 'is': 3, 'yellow': 1, 'hot': 2, 'coffee': 1, 'Love': 1, 'Eating': 1, 'potatoes': 2, 'everyday': 1})\n",
    "            \n",
    "# ============================================================================="
   ],
   "metadata": {
    "collapsed": false,
    "ExecuteTime": {
     "end_time": "2023-10-18T15:53:56.471864700Z",
     "start_time": "2023-10-18T15:53:56.447318800Z"
    }
   },
   "id": "bd65cefddd56f049"
  },
  {
   "cell_type": "code",
   "execution_count": 233,
   "outputs": [
    {
     "name": "stdout",
     "output_type": "stream",
     "text": [
      "Shape of TF Matrix : \n",
      " (12, 22)\n",
      "TF Matrix : \n",
      " [[1 1 1 0 0 0 0 0 0 0 0 0 0 0 0 0 0 0 0 0 0 0]\n",
      " [0 0 0 1 1 1 0 0 0 0 0 0 0 0 0 0 0 0 0 0 0 0]\n",
      " [0 1 0 0 0 0 1 1 0 0 0 0 0 0 0 0 0 0 0 0 0 0]\n",
      " [1 1 0 0 0 0 0 0 1 0 0 0 0 0 0 0 0 0 0 0 0 0]\n",
      " [0 0 0 0 0 0 0 0 1 1 1 1 0 0 0 0 0 0 0 0 0 0]\n",
      " [0 0 0 0 0 0 0 0 1 1 1 0 1 0 0 0 0 0 0 0 0 0]\n",
      " [0 0 0 0 0 0 0 0 0 0 0 0 0 1 1 1 0 0 0 0 0 0]\n",
      " [0 0 0 0 0 0 0 0 0 0 0 0 0 1 1 0 1 0 0 0 0 0]\n",
      " [1 0 0 0 1 0 0 0 0 0 0 0 0 0 0 0 1 1 0 0 0 0]\n",
      " [0 0 0 0 0 0 0 0 0 0 0 1 0 0 1 0 0 0 1 0 0 0]\n",
      " [0 0 0 0 0 0 0 0 0 0 0 0 0 0 0 0 0 0 0 1 1 1]\n",
      " [1 0 0 0 1 0 0 0 0 0 0 0 0 0 0 0 0 0 0 0 1 0]]\n"
     ]
    }
   ],
   "source": [
    "# =============================================================================\n",
    "# TF matrix for all sentences\n",
    "\n",
    "scrypt_tf_matrix = []\n",
    "for tokenized_sentence in scrypt_tokenized_sentences:\n",
    "    tf_vector = []\n",
    "    for word in scrypt_tf:\n",
    "        if word in tokenized_sentence:\n",
    "            tf_vector.append(1)\n",
    "        else:\n",
    "            tf_vector.append(0)\n",
    "    scrypt_tf_matrix.append(tf_vector)\n",
    "    \n",
    "print(\n",
    "    \"Shape of TF Matrix : \\n\",\n",
    "    np.array(scrypt_tf_matrix).shape\n",
    ")\n",
    "\n",
    "assert(np.array(scrypt_tf_matrix).shape == (len(scrypt_tokenized_sentences), len(scrypt_tf))) # Sanity check\n",
    "    \n",
    "print(\n",
    "    \"TF Matrix : \\n\",\n",
    "    np.array(scrypt_tf_matrix)\n",
    ")\n",
    "\n",
    "# =============================================================================\n"
   ],
   "metadata": {
    "collapsed": false,
    "ExecuteTime": {
     "end_time": "2023-10-18T15:32:00.757605300Z",
     "start_time": "2023-10-18T15:32:00.742064400Z"
    }
   },
   "id": "ee5bf57e805b6eb6"
  },
  {
   "cell_type": "code",
   "execution_count": 234,
   "outputs": [
    {
     "name": "stdout",
     "output_type": "stream",
     "text": [
      "Distances between words : \n",
      " [[0.         2.44948974 2.         1.41421356 2.64575131 2.64575131\n",
      "  2.44948974 2.44948974 2.23606798 2.44948974 2.44948974 2.\n",
      "  0.         0.         0.         0.         0.         0.\n",
      "  0.         0.         0.         0.        ]\n",
      " [2.44948974 0.         2.44948974 2.44948974 2.64575131 2.64575131\n",
      "  2.44948974 2.44948974 2.23606798 2.44948974 2.44948974 2.\n",
      "  0.         0.         0.         0.         0.         0.\n",
      "  0.         0.         0.         0.        ]\n",
      " [2.         2.44948974 0.         2.         2.64575131 2.64575131\n",
      "  2.44948974 2.44948974 2.64575131 2.44948974 2.44948974 2.44948974\n",
      "  0.         0.         0.         0.         0.         0.\n",
      "  0.         0.         0.         0.        ]\n",
      " [1.41421356 2.44948974 2.         0.         2.23606798 2.23606798\n",
      "  2.44948974 2.44948974 2.23606798 2.44948974 2.44948974 2.\n",
      "  0.         0.         0.         0.         0.         0.\n",
      "  0.         0.         0.         0.        ]\n",
      " [2.64575131 2.64575131 2.64575131 2.23606798 0.         1.41421356\n",
      "  2.64575131 2.64575131 2.82842712 2.23606798 2.64575131 2.64575131\n",
      "  0.         0.         0.         0.         0.         0.\n",
      "  0.         0.         0.         0.        ]\n",
      " [2.64575131 2.64575131 2.64575131 2.23606798 1.41421356 0.\n",
      "  2.64575131 2.64575131 2.82842712 2.64575131 2.64575131 2.64575131\n",
      "  0.         0.         0.         0.         0.         0.\n",
      "  0.         0.         0.         0.        ]\n",
      " [2.44948974 2.44948974 2.44948974 2.44948974 2.64575131 2.64575131\n",
      "  0.         1.41421356 2.64575131 2.         2.44948974 2.44948974\n",
      "  0.         0.         0.         0.         0.         0.\n",
      "  0.         0.         0.         0.        ]\n",
      " [2.44948974 2.44948974 2.44948974 2.44948974 2.64575131 2.64575131\n",
      "  1.41421356 0.         2.23606798 2.         2.44948974 2.44948974\n",
      "  0.         0.         0.         0.         0.         0.\n",
      "  0.         0.         0.         0.        ]\n",
      " [2.23606798 2.23606798 2.64575131 2.23606798 2.82842712 2.82842712\n",
      "  2.64575131 2.23606798 0.         2.64575131 2.64575131 1.73205081\n",
      "  0.         0.         0.         0.         0.         0.\n",
      "  0.         0.         0.         0.        ]\n",
      " [2.44948974 2.44948974 2.44948974 2.44948974 2.23606798 2.64575131\n",
      "  2.         2.         2.64575131 0.         2.44948974 2.44948974\n",
      "  0.         0.         0.         0.         0.         0.\n",
      "  0.         0.         0.         0.        ]\n",
      " [2.44948974 2.44948974 2.44948974 2.44948974 2.64575131 2.64575131\n",
      "  2.44948974 2.44948974 2.64575131 2.44948974 0.         2.\n",
      "  0.         0.         0.         0.         0.         0.\n",
      "  0.         0.         0.         0.        ]\n",
      " [2.         2.         2.44948974 2.         2.64575131 2.64575131\n",
      "  2.44948974 2.44948974 1.73205081 2.44948974 2.         0.\n",
      "  0.         0.         0.         0.         0.         0.\n",
      "  0.         0.         0.         0.        ]\n",
      " [0.         0.         0.         0.         0.         0.\n",
      "  0.         0.         0.         0.         0.         0.\n",
      "  0.         0.         0.         0.         0.         0.\n",
      "  0.         0.         0.         0.        ]\n",
      " [0.         0.         0.         0.         0.         0.\n",
      "  0.         0.         0.         0.         0.         0.\n",
      "  0.         0.         0.         0.         0.         0.\n",
      "  0.         0.         0.         0.        ]\n",
      " [0.         0.         0.         0.         0.         0.\n",
      "  0.         0.         0.         0.         0.         0.\n",
      "  0.         0.         0.         0.         0.         0.\n",
      "  0.         0.         0.         0.        ]\n",
      " [0.         0.         0.         0.         0.         0.\n",
      "  0.         0.         0.         0.         0.         0.\n",
      "  0.         0.         0.         0.         0.         0.\n",
      "  0.         0.         0.         0.        ]\n",
      " [0.         0.         0.         0.         0.         0.\n",
      "  0.         0.         0.         0.         0.         0.\n",
      "  0.         0.         0.         0.         0.         0.\n",
      "  0.         0.         0.         0.        ]\n",
      " [0.         0.         0.         0.         0.         0.\n",
      "  0.         0.         0.         0.         0.         0.\n",
      "  0.         0.         0.         0.         0.         0.\n",
      "  0.         0.         0.         0.        ]\n",
      " [0.         0.         0.         0.         0.         0.\n",
      "  0.         0.         0.         0.         0.         0.\n",
      "  0.         0.         0.         0.         0.         0.\n",
      "  0.         0.         0.         0.        ]\n",
      " [0.         0.         0.         0.         0.         0.\n",
      "  0.         0.         0.         0.         0.         0.\n",
      "  0.         0.         0.         0.         0.         0.\n",
      "  0.         0.         0.         0.        ]\n",
      " [0.         0.         0.         0.         0.         0.\n",
      "  0.         0.         0.         0.         0.         0.\n",
      "  0.         0.         0.         0.         0.         0.\n",
      "  0.         0.         0.         0.        ]\n",
      " [0.         0.         0.         0.         0.         0.\n",
      "  0.         0.         0.         0.         0.         0.\n",
      "  0.         0.         0.         0.         0.         0.\n",
      "  0.         0.         0.         0.        ]]\n"
     ]
    }
   ],
   "source": [
    "# =============================================================================\n",
    "# Calculating euclidian distance between each words\n",
    "\n",
    "N_VECTORS = len(scrypt_tokenized_sentences)\n",
    "N_WORDS = len(scrypt_tf)\n",
    "distances_between_words = np.zeros((N_WORDS, N_WORDS))\n",
    "\n",
    "for i in range(N_VECTORS):\n",
    "    for j in range(i+1, N_VECTORS):\n",
    "        first_vector = scrypt_tf_matrix[i]\n",
    "        second_vector = scrypt_tf_matrix[j]\n",
    "        \n",
    "        squared_distance = sum((first_vector - second_vector)**2 for first_vector, second_vector in zip(first_vector, second_vector))\n",
    "        euclidian_distance = np.sqrt(squared_distance)\n",
    "        \n",
    "        distances_between_words[i][j] = euclidian_distance\n",
    "        distances_between_words[j][i] = euclidian_distance\n",
    "        \n",
    "print(\n",
    "    \"Distances between words : \\n\",\n",
    "    distances_between_words\n",
    ")\n",
    "\n",
    "# ============================================================================="
   ],
   "metadata": {
    "collapsed": false,
    "ExecuteTime": {
     "end_time": "2023-10-18T15:32:00.771113200Z",
     "start_time": "2023-10-18T15:32:00.760614300Z"
    }
   },
   "id": "bb90d28b9b9a25dd"
  },
  {
   "cell_type": "code",
   "execution_count": 250,
   "outputs": [
    {
     "name": "stdout",
     "output_type": "stream",
     "text": [
      "Top 3 similar words for love : \n",
      " ['blue', 'Sun']\n"
     ]
    }
   ],
   "source": [
    "# =============================================================================\n",
    "# Words with most similar meaning\n",
    "\n",
    "top_3_similar_words = {}\n",
    "\n",
    "for i in range(len(scrypt_tf.keys())):\n",
    "    top_3_similar_words[list(scrypt_tf.keys())[i]] = sorted(list(scrypt_tf.keys()), key=lambda x: distances_between_words[i][list(scrypt_tf.keys()).index(x)])[1:3]\n",
    "    \n",
    "print(\n",
    "    \"Top 3 similar words for love : \\n\",\n",
    "    top_3_similar_words['love']\n",
    ")\n",
    "            \n",
    "# ============================================================================="
   ],
   "metadata": {
    "collapsed": false,
    "ExecuteTime": {
     "end_time": "2023-10-18T15:35:09.087753100Z",
     "start_time": "2023-10-18T15:35:09.016829800Z"
    }
   },
   "id": "e604275622935dfe"
  },
  {
   "cell_type": "code",
   "execution_count": 245,
   "outputs": [
    {
     "data": {
      "text/plain": "<Figure size 1000x1000 with 1 Axes>",
      "image/png": "[encoded data removed]"
     },
     "metadata": {},
     "output_type": "display_data"
    }
   ],
   "source": [
    "# =============================================================================\n",
    "# Plotting words in 2D space using euclidian distance only\n",
    "\n",
    "plot_x = []\n",
    "plot_y = []\n",
    "colors = ['red', 'green', 'blue', 'yellow', 'orange', 'purple', 'pink', 'black', 'white', 'brown']\n",
    "\n",
    "for i in range(len(scrypt_tf.keys())):\n",
    "    for j in range(i+1, len(scrypt_tf.keys())):   \n",
    "        plot_x.append(distances_between_words[i][j])\n",
    "        plot_y.append(distances_between_words[j][i])\n",
    " \n",
    "\n",
    "plt.scatter(plot_x, plot_y)\n",
    "for i, word_name in enumerate(scrypt_tf.keys()):\n",
    "    plt.annotate(word_name, (plot_x[i] + 0.15*np.random.randn(), plot_y[i] + 0.15*np.random.randn()), color=colors[i*len(colors)//len(scrypt_tf.keys())])\n",
    "    \n",
    "plt.rcParams[\"figure.figsize\"] = (10, 10)\n",
    "plt.show()\n",
    "\n",
    "# ============================================================================="
   ],
   "metadata": {
    "collapsed": false,
    "ExecuteTime": {
     "end_time": "2023-10-18T15:33:16.347849500Z",
     "start_time": "2023-10-18T15:33:16.200002800Z"
    }
   },
   "id": "efafa5e26393dca1"
  },
  {
   "cell_type": "code",
   "execution_count": 244,
   "outputs": [
    {
     "data": {
      "text/plain": "<Figure size 1000x1000 with 1 Axes>",
      "image/png": "[encoded data removed]"
     },
     "metadata": {},
     "output_type": "display_data"
    }
   ],
   "source": [
    "# =============================================================================\n",
    "# Plotting words in 2D space using PCA on euclidian distance\n",
    "\n",
    "pca = PCA(n_components=2)\n",
    "pca.fit(distances_between_words)\n",
    "pca_distances_between_words = pca.transform(distances_between_words)\n",
    "\n",
    "plot_x = pca_distances_between_words[:, 0]\n",
    "plot_y = pca_distances_between_words[:, 1]\n",
    "\n",
    "plt.scatter(plot_x, plot_y)\n",
    "\n",
    "for i, word_name in enumerate(scrypt_tf.keys()):\n",
    "    plt.annotate(word_name, (plot_x[i] + 0.2*np.random.randn(), plot_y[i] + 0.2*np.random.randn()), color=colors[i*len(colors)//len(scrypt_tf.keys())])\n",
    "\n",
    "plt.rcParams[\"figure.figsize\"] = (10, 10) \n",
    "plt.show()\n",
    "\n",
    "# ============================================================================="
   ],
   "metadata": {
    "collapsed": false,
    "ExecuteTime": {
     "end_time": "2023-10-18T15:32:56.307734200Z",
     "start_time": "2023-10-18T15:32:56.145330700Z"
    }
   },
   "id": "c5040ff82569c3a0"
  }
 ],
 "metadata": {
  "kernelspec": {
   "display_name": "Python 3",
   "language": "python",
   "name": "python3"
  },
  "language_info": {
   "codemirror_mode": {
    "name": "ipython",
    "version": 2
   },
   "file_extension": ".py",
   "mimetype": "text/x-python",
   "name": "python",
   "nbconvert_exporter": "python",
   "pygments_lexer": "ipython2",
   "version": "2.7.6"
  }
 },
 "nbformat": 4,
 "nbformat_minor": 5
}
